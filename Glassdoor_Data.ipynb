{
  "nbformat": 4,
  "nbformat_minor": 0,
  "metadata": {
    "colab": {
      "provenance": [],
      "authorship_tag": "ABX9TyOQ+udEGSodNdgM/FSaFOF/",
      "include_colab_link": true
    },
    "kernelspec": {
      "name": "python3",
      "display_name": "Python 3"
    },
    "language_info": {
      "name": "python"
    }
  },
  "cells": [
    {
      "cell_type": "markdown",
      "metadata": {
        "id": "view-in-github",
        "colab_type": "text"
      },
      "source": [
        "<a href=\"https://colab.research.google.com/github/kumpaten/masters-thesis-code/blob/main/Glassdoor_Data.ipynb\" target=\"_parent\"><img src=\"https://colab.research.google.com/assets/colab-badge.svg\" alt=\"Open In Colab\"/></a>"
      ]
    },
    {
      "cell_type": "code",
      "source": [
        "# Mount Google Drive\n",
        "from google.colab import drive\n",
        "drive.mount('/content/drive')"
      ],
      "metadata": {
        "id": "5F6V2CfR-pxw"
      },
      "execution_count": null,
      "outputs": []
    },
    {
      "cell_type": "code",
      "source": [
        "import pandas as pd\n",
        "\n",
        "# Load the CSV file from your Google Drive\n",
        "df = pd.read_csv('/content/drive/My Drive/glassdoor_reviews.csv')\n",
        "\n",
        "# Filter to target firms\n",
        "target_firms = [\n",
        "    \"Apple\", \"Microsoft\", \"Google\", \"Cisco-Systems\", \"Oracle\",\n",
        "    \"IBM\", \"SAP\", \"Facebook\", \"Accenture\", \"Salesforce\"\n",
        "]\n",
        "df_target = df[df['firm'].isin(target_firms)].copy()\n",
        "\n",
        "# Ensure that the date column is in datetime format and extract the year\n",
        "df_target['date_review'] = pd.to_datetime(df_target['date_review'], errors='coerce')\n",
        "df_target['Year'] = df_target['date_review'].dt.year\n",
        "\n",
        "# Identify the numeric columns for which we want to calculate the average\n",
        "numeric_cols = [\n",
        "    'overall_rating',\n",
        "    'work_life_balance',\n",
        "    'culture_values',\n",
        "    'diversity_inclusion',\n",
        "    'career_opp',\n",
        "    'comp_benefits',\n",
        "    'senior_mgmt'\n",
        "]\n",
        "\n",
        "# Group by firm and Year, calculating the mean for each numeric column\n",
        "aggregated_means = (\n",
        "    df_target.groupby(['firm', 'Year'])[numeric_cols]\n",
        "             .mean()\n",
        "             .reset_index()\n",
        ")\n",
        "\n",
        "# Calculate the number of rows (i.e., reviews) in each group\n",
        "row_counts = (\n",
        "    df_target.groupby(['firm', 'Year'])\n",
        "             .size()\n",
        "             .reset_index(name='row_count')\n",
        ")\n",
        "\n",
        "# Merge the aggregated means with the row counts\n",
        "result = pd.merge(aggregated_means, row_counts, on=['firm', 'Year'])\n",
        "\n",
        "# Display the result\n",
        "print(result)\n"
      ],
      "metadata": {
        "id": "2UCoAfRrDFJd"
      },
      "execution_count": null,
      "outputs": []
    },
    {
      "cell_type": "code",
      "source": [
        "import pandas as pd\n",
        "from google.colab import files\n",
        "\n",
        "# Group by 'firm' and 'Year' to calculate the average overall rating and review count\n",
        "summary_df = df_target.groupby(['firm', 'Year']).agg(\n",
        "    avg_overall_rating=('overall_rating', 'mean'),\n",
        "    review_count=('overall_rating', 'count')\n",
        ").reset_index()\n",
        "\n",
        "# Display the first few rows of the summary\n",
        "print(summary_df.head())"
      ],
      "metadata": {
        "id": "OSpkKKh7QpK3"
      },
      "execution_count": null,
      "outputs": []
    },
    {
      "cell_type": "code",
      "source": [
        "import pandas as pd\n",
        "import numpy as np\n",
        "\n",
        "# 1. Add rows for Facebook from 2008 to 2011 if missing\n",
        "company_to_fix = \"Facebook\"\n",
        "missing_years = range(2008, 2012)  # 2008..2011 inclusive\n",
        "\n",
        "for year in missing_years:\n",
        "    mask = (summary_df[\"firm\"] == company_to_fix) & (summary_df[\"Year\"] == year)\n",
        "    if mask.sum() == 0:  # no row found\n",
        "        new_row_df = pd.DataFrame([{\n",
        "            \"firm\": company_to_fix,\n",
        "            \"Year\": year,\n",
        "            \"avg_overall_rating\": 0.0,\n",
        "            \"review_count\": 0\n",
        "        }])\n",
        "        summary_df = pd.concat([summary_df, new_row_df], ignore_index=True)\n",
        "\n",
        "# 2. Sort by company and year\n",
        "summary_df.sort_values([\"firm\", \"Year\"], inplace=True, ignore_index=True)\n",
        "\n",
        "# 3. Compute a company-specific average rating for each company (m_c)\n",
        "summary_df[\"firm_avg\"] = summary_df.groupby(\"firm\")[\"avg_overall_rating\"].transform(\"mean\")\n",
        "\n",
        "# 4. Set prior count C as median of review counts per company (excluding zeros)\n",
        "def median_nonzero(x):\n",
        "    nonzero = x[x > 0]\n",
        "    return int(np.median(nonzero)) if len(nonzero) > 0 else 1\n",
        "\n",
        "summary_df[\"C_firm\"] = summary_df.groupby(\"firm\")[\"review_count\"].transform(median_nonzero)\n",
        "\n",
        "# 5. Apply the Bayesian smoothing formula with company-specific average and C\n",
        "summary_df[\"smoothed_rating\"] = (\n",
        "    (summary_df[\"review_count\"] * summary_df[\"avg_overall_rating\"] + summary_df[\"C_firm\"] * summary_df[\"firm_avg\"]) /\n",
        "    (summary_df[\"review_count\"] + summary_df[\"C_firm\"])\n",
        ")\n",
        "\n",
        "print(\"Company-specific median review counts (C_firm) have been applied for smoothing.\")\n",
        "\n",
        "# Display the first few rows of the updated summary\n",
        "print(summary_df.head())\n",
        "\n",
        "# 6. Save the summary to a CSV file\n",
        "output_path = '/content/drive/My Drive/Glassdoor_yearly_review_summary_updated.csv'\n",
        "summary_df.to_csv(output_path, index=False)\n",
        "\n",
        "print(\"The DataFrame now includes missing Facebook rows, is sorted, and uses company-specific smoothed ratings with endogenous median-based C.\")"
      ],
      "metadata": {
        "id": "y1dN3T8f4LOm"
      },
      "execution_count": null,
      "outputs": []
    }
  ]
}