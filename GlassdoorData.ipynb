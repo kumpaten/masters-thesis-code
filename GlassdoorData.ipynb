{
  "nbformat": 4,
  "nbformat_minor": 0,
  "metadata": {
    "colab": {
      "provenance": [],
      "authorship_tag": "ABX9TyOwFli5KNcuhC5q8Vmktu9l",
      "include_colab_link": true
    },
    "kernelspec": {
      "name": "python3",
      "display_name": "Python 3"
    },
    "language_info": {
      "name": "python"
    }
  },
  "cells": [
    {
      "cell_type": "markdown",
      "metadata": {
        "id": "view-in-github",
        "colab_type": "text"
      },
      "source": [
        "<a href=\"https://colab.research.google.com/github/kumpaten/masters-thesis-code/blob/main/GlassdoorData.ipynb\" target=\"_parent\"><img src=\"https://colab.research.google.com/assets/colab-badge.svg\" alt=\"Open In Colab\"/></a>"
      ]
    },
    {
      "cell_type": "code",
      "source": [
        "# Mount Google Drive\n",
        "from google.colab import drive\n",
        "drive.mount('/content/drive')"
      ],
      "metadata": {
        "id": "5F6V2CfR-pxw"
      },
      "execution_count": null,
      "outputs": []
    },
    {
      "cell_type": "code",
      "source": [
        "import pandas as pd\n",
        "\n",
        "# Load the CSV file from your Google Drive\n",
        "df = pd.read_csv('/content/drive/My Drive/glassdoor_reviews.csv')\n",
        "\n",
        "# Filter to target firms\n",
        "target_firms = [\n",
        "    \"Apple\", \"Microsoft\", \"Google\", \"Cisco-Systems\", \"Oracle\",\n",
        "    \"IBM\", \"SAP\", \"Facebook\", \"Accenture\", \"Salesforce\"\n",
        "]\n",
        "df_target = df[df['firm'].isin(target_firms)].copy()\n",
        "\n",
        "# Ensure that the date column is in datetime format and extract the year\n",
        "df_target['date_review'] = pd.to_datetime(df_target['date_review'], errors='coerce')\n",
        "df_target['Year'] = df_target['date_review'].dt.year\n",
        "\n",
        "# Identify the numeric columns for which we want to calculate the average\n",
        "numeric_cols = [\n",
        "    'overall_rating',\n",
        "    'work_life_balance',\n",
        "    'culture_values',\n",
        "    'diversity_inclusion',\n",
        "    'career_opp',\n",
        "    'comp_benefits',\n",
        "    'senior_mgmt'\n",
        "]\n",
        "\n",
        "# Group by firm and Year, calculating the mean for each numeric column\n",
        "aggregated_means = (\n",
        "    df_target.groupby(['firm', 'Year'])[numeric_cols]\n",
        "             .mean()\n",
        "             .reset_index()\n",
        ")\n",
        "\n",
        "# Calculate the number of rows (i.e., reviews) in each group\n",
        "row_counts = (\n",
        "    df_target.groupby(['firm', 'Year'])\n",
        "             .size()\n",
        "             .reset_index(name='row_count')\n",
        ")\n",
        "\n",
        "# Merge the aggregated means with the row counts\n",
        "result = pd.merge(aggregated_means, row_counts, on=['firm', 'Year'])\n",
        "\n",
        "# Display the result\n",
        "print(result)\n"
      ],
      "metadata": {
        "id": "2UCoAfRrDFJd"
      },
      "execution_count": null,
      "outputs": []
    },
    {
      "cell_type": "code",
      "source": [
        "import pandas as pd\n",
        "\n",
        "# Group by 'firm' and 'Year' and count the number of reviews (non-null overall_rating values)\n",
        "review_counts = (\n",
        "    df_target.groupby(['firm', 'Year'])['overall_rating']\n",
        "             .count()\n",
        "             .reset_index(name='review_count')\n",
        ")\n",
        "\n",
        "# Display the counts\n",
        "print(\"Number of reviews for each company and each year:\")\n",
        "print(review_counts)\n",
        "\n",
        "# pivot table to get a clearer view:\n",
        "review_pivot = review_counts.pivot(index='firm', columns='Year', values='review_count')\n",
        "print(\"\\nPivot table of review counts:\")\n",
        "print(review_pivot)\n"
      ],
      "metadata": {
        "id": "O4OeTIu_OYoN"
      },
      "execution_count": null,
      "outputs": []
    },
    {
      "cell_type": "code",
      "source": [
        "import pandas as pd\n",
        "from google.colab import files\n",
        "\n",
        "# Group by 'firm' and 'Year' to calculate the average overall rating and review count\n",
        "summary_df = df_target.groupby(['firm', 'Year']).agg(\n",
        "    avg_overall_rating=('overall_rating', 'mean'),\n",
        "    review_count=('overall_rating', 'count')\n",
        ").reset_index()\n",
        "\n",
        "# Display the first few rows of the summary\n",
        "print(summary_df.head())"
      ],
      "metadata": {
        "id": "OSpkKKh7QpK3"
      },
      "execution_count": null,
      "outputs": []
    },
    {
      "cell_type": "code",
      "source": [
        "import pandas as pd\n",
        "import re\n",
        "from google.colab import files\n",
        "\n",
        "# 1. Add rows for Facebook from 2008 to 2011 if missing\n",
        "company_to_fix = \"Facebook\"\n",
        "missing_years = range(2008, 2012)  # 2008..2011 inclusive\n",
        "\n",
        "for year in missing_years:\n",
        "    mask = (summary_df[\"firm\"] == company_to_fix) & (summary_df[\"Year\"] == year)\n",
        "    if mask.sum() == 0:  # no row found\n",
        "        new_row_df = pd.DataFrame([{\n",
        "            \"firm\": company_to_fix,\n",
        "            \"Year\": year,\n",
        "            \"avg_overall_rating\": 0.0,\n",
        "            \"review_count\": 0\n",
        "        }])\n",
        "        summary_df = pd.concat([summary_df, new_row_df], ignore_index=True)\n",
        "\n",
        "# 2. Sort by company and year (optional, for clarity)\n",
        "summary_df.sort_values([\"firm\", \"Year\"], inplace=True, ignore_index=True)\n",
        "\n",
        "# 3. Compute a company-specific average rating for each company\n",
        "#    This will serve as the prior (m_c) for that company.\n",
        "summary_df[\"firm_avg\"] = summary_df.groupby(\"firm\")[\"avg_overall_rating\"].transform(\"mean\")\n",
        "\n",
        "# 4. Choose a prior count C (how strongly we trust the company's average)\n",
        "C = 50\n",
        "\n",
        "# 5. Apply the Bayesian smoothing formula (company-specific)\n",
        "#    smoothed_rating_{c,y} = ((review_count_{c,y} * avg_overall_rating_{c,y}) + (C * m_c)) / (review_count_{c,y} + C)\n",
        "summary_df[\"smoothed_rating\"] = (\n",
        "    (summary_df[\"review_count\"] * summary_df[\"avg_overall_rating\"] + C * summary_df[\"firm_avg\"]) /\n",
        "    (summary_df[\"review_count\"] + C)\n",
        ")\n",
        "\n",
        "# 6. Save the updated DataFrame to CSV\n",
        "summary_df.to_csv(\"Glassdoor_yearly_review_summary_updated.csv\", index=False)\n",
        "\n",
        "print(\"The DataFrame now has missing Facebook rows added, is sorted, and uses company-specific smoothed ratings.\")\n",
        "\n",
        "# Display the first few rows of the summary\n",
        "print(summary_df.head())\n",
        "\n",
        "# Save the summary to a new CSV file\n",
        "output_path = '/content/drive/My Drive/Glassdoor_yearly_review_summary_updated.csv'\n",
        "summary_df.to_csv(output_path, index=False)"
      ],
      "metadata": {
        "id": "lL1DxoySNBnf"
      },
      "execution_count": null,
      "outputs": []
    }
  ]
}